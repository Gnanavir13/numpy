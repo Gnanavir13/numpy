{
  "nbformat": 4,
  "nbformat_minor": 0,
  "metadata": {
    "colab": {
      "provenance": []
    },
    "kernelspec": {
      "name": "python3",
      "display_name": "Python 3"
    },
    "language_info": {
      "name": "python"
    }
  },
  "cells": [
    {
      "cell_type": "code",
      "execution_count": 7,
      "metadata": {
        "id": "Q-QtERaRklrm"
      },
      "outputs": [],
      "source": []
    },
    {
      "cell_type": "markdown",
      "metadata": {
        "id": "09672bc4"
      },
      "source": [
        "# Task\n",
        "Create a Python notebook that uses NumPy to manage student marks data. The notebook should demonstrate data creation, exploration, transformation, combination, modification, data type handling, and the difference between array copies and views."
      ]
    },
    {
      "cell_type": "markdown",
      "metadata": {
        "id": "5c5f596a"
      },
      "source": [
        "## Data creation\n",
        "\n",
        "### Subtask:\n",
        "Create NumPy arrays for students, subjects, and their marks.\n"
      ]
    },
    {
      "cell_type": "markdown",
      "metadata": {
        "id": "dc6e126b"
      },
      "source": [
        "**Reasoning**:\n",
        "Create numpy arrays for students, subjects, and marks as instructed.\n",
        "\n"
      ]
    },
    {
      "cell_type": "code",
      "metadata": {
        "colab": {
          "base_uri": "https://localhost:8080/"
        },
        "id": "65dfe8f5",
        "outputId": "f6a7e134-e648-4747-eae7-f14141b9f00b"
      },
      "source": [
        "import numpy as np\n",
        "\n",
        "students = np.array(['Alice', 'Bob', 'Charlie', 'David', 'Eve'])\n",
        "subjects = np.array(['Math', 'Science', 'English', 'History'])\n",
        "marks = np.array([[85, 90, 78, 92],\n",
        "                  [70, 88, 95, 80],\n",
        "                  [92, 75, 82, 88],\n",
        "                  [65, 70, 75, 72],\n",
        "                  [98, 91, 89, 94]], dtype=int)\n",
        "\n",
        "print(\"Students:\", students)\n",
        "print(\"Subjects:\", subjects)\n",
        "print(\"Marks:\\n\", marks)"
      ],
      "execution_count": 8,
      "outputs": [
        {
          "output_type": "stream",
          "name": "stdout",
          "text": [
            "Students: ['Alice' 'Bob' 'Charlie' 'David' 'Eve']\n",
            "Subjects: ['Math' 'Science' 'English' 'History']\n",
            "Marks:\n",
            " [[85 90 78 92]\n",
            " [70 88 95 80]\n",
            " [92 75 82 88]\n",
            " [65 70 75 72]\n",
            " [98 91 89 94]]\n"
          ]
        }
      ]
    },
    {
      "cell_type": "markdown",
      "metadata": {
        "id": "e0d36ffb"
      },
      "source": [
        "## Data exploration\n",
        "\n",
        "### Subtask:\n",
        "Examine the shape, size, and dimensions of the created arrays.\n"
      ]
    },
    {
      "cell_type": "markdown",
      "metadata": {
        "id": "e4c1e2c2"
      },
      "source": [
        "**Reasoning**:\n",
        "Print the shape, size, and dimensions of the created arrays as requested by the instructions.\n",
        "\n"
      ]
    },
    {
      "cell_type": "code",
      "metadata": {
        "colab": {
          "base_uri": "https://localhost:8080/"
        },
        "id": "65f53118",
        "outputId": "1a4ed911-2b17-41f7-ca7c-a6985e7e57e8"
      },
      "source": [
        "print(\"Shape of students array:\", students.shape)\n",
        "print(\"Size of students array:\", students.size)\n",
        "print(\"Dimensions of students array:\", students.ndim)\n",
        "\n",
        "print(\"\\nShape of subjects array:\", subjects.shape)\n",
        "print(\"Size of subjects array:\", subjects.size)\n",
        "print(\"Dimensions of subjects array:\", subjects.ndim)\n",
        "\n",
        "print(\"\\nShape of marks array:\", marks.shape)\n",
        "print(\"Size of marks array:\", marks.size)\n",
        "print(\"Dimensions of marks array:\", marks.ndim)"
      ],
      "execution_count": 9,
      "outputs": [
        {
          "output_type": "stream",
          "name": "stdout",
          "text": [
            "Shape of students array: (5,)\n",
            "Size of students array: 5\n",
            "Dimensions of students array: 1\n",
            "\n",
            "Shape of subjects array: (4,)\n",
            "Size of subjects array: 4\n",
            "Dimensions of subjects array: 1\n",
            "\n",
            "Shape of marks array: (5, 4)\n",
            "Size of marks array: 20\n",
            "Dimensions of marks array: 2\n"
          ]
        }
      ]
    },
    {
      "cell_type": "markdown",
      "metadata": {
        "id": "68962e58"
      },
      "source": [
        "## Data transformation\n",
        "\n",
        "### Subtask:\n",
        "Reshape and reorganize the marks array to demonstrate different views of the data.\n"
      ]
    },
    {
      "cell_type": "markdown",
      "metadata": {
        "id": "c407c63c"
      },
      "source": [
        "**Reasoning**:\n",
        "Reshape the marks array into a 1D array, a new 2D array with subjects as rows and students as columns, and create a view of the first two rows of the original marks array, and print the shape and the arrays/views.\n",
        "\n"
      ]
    },
    {
      "cell_type": "code",
      "metadata": {
        "colab": {
          "base_uri": "https://localhost:8080/"
        },
        "id": "1cb5f221",
        "outputId": "d83f1b9f-c17a-465c-f010-903811b879dc"
      },
      "source": [
        "marks_flat = marks.reshape(-1)\n",
        "print(\"Reshaped marks (1D):\")\n",
        "print(\"Shape:\", marks_flat.shape)\n",
        "print(marks_flat)\n",
        "\n",
        "marks_transposed = marks.T\n",
        "print(\"\\nReshaped marks (subjects as rows, students as columns):\")\n",
        "print(\"Shape:\", marks_transposed.shape)\n",
        "print(marks_transposed)\n",
        "\n",
        "marks_view = marks[:2, :]\n",
        "print(\"\\nView of the first two rows of original marks array:\")\n",
        "print(\"Shape:\", marks_view.shape)\n",
        "print(marks_view)"
      ],
      "execution_count": 10,
      "outputs": [
        {
          "output_type": "stream",
          "name": "stdout",
          "text": [
            "Reshaped marks (1D):\n",
            "Shape: (20,)\n",
            "[85 90 78 92 70 88 95 80 92 75 82 88 65 70 75 72 98 91 89 94]\n",
            "\n",
            "Reshaped marks (subjects as rows, students as columns):\n",
            "Shape: (4, 5)\n",
            "[[85 70 92 65 98]\n",
            " [90 88 75 70 91]\n",
            " [78 95 82 75 89]\n",
            " [92 80 88 72 94]]\n",
            "\n",
            "View of the first two rows of original marks array:\n",
            "Shape: (2, 4)\n",
            "[[85 90 78 92]\n",
            " [70 88 95 80]]\n"
          ]
        }
      ]
    },
    {
      "cell_type": "markdown",
      "metadata": {
        "id": "ee3c6450"
      },
      "source": [
        "## Data combination\n",
        "\n",
        "### Subtask:\n",
        "Combine or split arrays to simulate adding/removing students or subjects.\n"
      ]
    },
    {
      "cell_type": "markdown",
      "metadata": {
        "id": "c132a4b6"
      },
      "source": [
        "**Reasoning**:\n",
        "Create new arrays for a new student and an extra subject, then use `np.vstack` and `np.hstack` to combine them with the existing marks array as per the instructions.\n",
        "\n"
      ]
    },
    {
      "cell_type": "code",
      "metadata": {
        "colab": {
          "base_uri": "https://localhost:8080/"
        },
        "id": "83d6926b",
        "outputId": "8cf6283f-4818-4677-8272-55bf50666a4f"
      },
      "source": [
        "new_student_marks = np.array([[88, 92, 85, 90]])\n",
        "combined_marks_student = np.vstack((marks, new_student_marks))\n",
        "print(\"Combined marks after adding a new student:\")\n",
        "print(\"Shape:\", combined_marks_student.shape)\n",
        "print(combined_marks_student)\n",
        "\n",
        "extra_subject_marks = np.array([[80], [85], [78], [90], [95]])\n",
        "combined_marks_subject = np.hstack((marks, extra_subject_marks))\n",
        "print(\"\\nCombined marks after adding a new subject:\")\n",
        "print(\"Shape:\", combined_marks_subject.shape)\n",
        "print(combined_marks_subject)"
      ],
      "execution_count": 11,
      "outputs": [
        {
          "output_type": "stream",
          "name": "stdout",
          "text": [
            "Combined marks after adding a new student:\n",
            "Shape: (6, 4)\n",
            "[[85 90 78 92]\n",
            " [70 88 95 80]\n",
            " [92 75 82 88]\n",
            " [65 70 75 72]\n",
            " [98 91 89 94]\n",
            " [88 92 85 90]]\n",
            "\n",
            "Combined marks after adding a new subject:\n",
            "Shape: (5, 5)\n",
            "[[85 90 78 92 80]\n",
            " [70 88 95 80 85]\n",
            " [92 75 82 88 78]\n",
            " [65 70 75 72 90]\n",
            " [98 91 89 94 95]]\n"
          ]
        }
      ]
    },
    {
      "cell_type": "markdown",
      "metadata": {
        "id": "8da4f355"
      },
      "source": [
        "## Data modification\n",
        "\n",
        "### Subtask:\n",
        "Modify array elements to update marks, and demonstrate unique values.\n"
      ]
    },
    {
      "cell_type": "markdown",
      "metadata": {
        "id": "46ca19ed"
      },
      "source": [
        "**Reasoning**:\n",
        "Select and modify a specific element and a slice of the marks array, then find the unique marks.\n",
        "\n"
      ]
    },
    {
      "cell_type": "code",
      "metadata": {
        "colab": {
          "base_uri": "https://localhost:8080/"
        },
        "id": "940f29a9",
        "outputId": "0b5ee51a-baac-430b-97a7-461daed67e8d"
      },
      "source": [
        "# 1. Select a specific element and change its value (e.g., Alice's Science mark)\n",
        "marks[0, 1] = 92\n",
        "print(\"Marks after updating Alice's Science mark:\")\n",
        "print(marks)\n",
        "\n",
        "# 2. Select a slice and modify multiple elements (e.g., Charlie's marks)\n",
        "marks[2, :] = [95, 80, 88, 91]\n",
        "print(\"\\nMarks after updating Charlie's marks:\")\n",
        "print(marks)\n",
        "\n",
        "# 3. Use np.unique to find and print unique marks\n",
        "unique_marks = np.unique(marks)\n",
        "print(\"\\nUnique marks in the array:\")\n",
        "print(unique_marks)"
      ],
      "execution_count": 12,
      "outputs": [
        {
          "output_type": "stream",
          "name": "stdout",
          "text": [
            "Marks after updating Alice's Science mark:\n",
            "[[85 92 78 92]\n",
            " [70 88 95 80]\n",
            " [92 75 82 88]\n",
            " [65 70 75 72]\n",
            " [98 91 89 94]]\n",
            "\n",
            "Marks after updating Charlie's marks:\n",
            "[[85 92 78 92]\n",
            " [70 88 95 80]\n",
            " [95 80 88 91]\n",
            " [65 70 75 72]\n",
            " [98 91 89 94]]\n",
            "\n",
            "Unique marks in the array:\n",
            "[65 70 72 75 78 80 85 88 89 91 92 94 95 98]\n"
          ]
        }
      ]
    },
    {
      "cell_type": "markdown",
      "metadata": {
        "id": "d8ad4dc5"
      },
      "source": [
        "## Data type handling\n",
        "\n",
        "### Subtask:\n",
        "Show how data types can be changed and the impact on operations.\n"
      ]
    },
    {
      "cell_type": "markdown",
      "metadata": {
        "id": "628eb4c5"
      },
      "source": [
        "**Reasoning**:\n",
        "Print the current data type of the marks array, convert it to float, print the new data type, and perform division on both to show the impact.\n",
        "\n"
      ]
    },
    {
      "cell_type": "code",
      "metadata": {
        "colab": {
          "base_uri": "https://localhost:8080/"
        },
        "id": "d9037f56",
        "outputId": "ff293be0-5ae8-47de-ca00-31b0423c18d1"
      },
      "source": [
        "# 1. Print the current data type of the marks array\n",
        "print(\"Original data type of marks:\", marks.dtype)\n",
        "\n",
        "# 2. Convert the marks array to a floating-point data type\n",
        "marks_float = marks.astype(np.float64)\n",
        "\n",
        "# 3. Print the data type of the new marks_float array\n",
        "print(\"New data type of marks_float:\", marks_float.dtype)\n",
        "\n",
        "# 4. Attempt a division operation on the original marks array\n",
        "marks_divided_int = marks / 2\n",
        "print(\"\\nDivision result on original integer marks:\")\n",
        "print(marks_divided_int)\n",
        "print(\"Data type of division result on original marks:\", marks_divided_int.dtype)\n",
        "\n",
        "# 5. Attempt the same division operation on the marks_float array\n",
        "marks_divided_float = marks_float / 2\n",
        "print(\"\\nDivision result on floating-point marks:\")\n",
        "print(marks_divided_float)\n",
        "print(\"Data type of division result on floating-point marks:\", marks_divided_float.dtype)"
      ],
      "execution_count": 13,
      "outputs": [
        {
          "output_type": "stream",
          "name": "stdout",
          "text": [
            "Original data type of marks: int64\n",
            "New data type of marks_float: float64\n",
            "\n",
            "Division result on original integer marks:\n",
            "[[42.5 46.  39.  46. ]\n",
            " [35.  44.  47.5 40. ]\n",
            " [47.5 40.  44.  45.5]\n",
            " [32.5 35.  37.5 36. ]\n",
            " [49.  45.5 44.5 47. ]]\n",
            "Data type of division result on original marks: float64\n",
            "\n",
            "Division result on floating-point marks:\n",
            "[[42.5 46.  39.  46. ]\n",
            " [35.  44.  47.5 40. ]\n",
            " [47.5 40.  44.  45.5]\n",
            " [32.5 35.  37.5 36. ]\n",
            " [49.  45.5 44.5 47. ]]\n",
            "Data type of division result on floating-point marks: float64\n"
          ]
        }
      ]
    },
    {
      "cell_type": "markdown",
      "metadata": {
        "id": "dfd46c98"
      },
      "source": [
        "## Copy and view behavior\n",
        "\n",
        "### Subtask:\n",
        "Illustrate the difference between array copies and views.\n"
      ]
    },
    {
      "cell_type": "markdown",
      "metadata": {
        "id": "2d1848e1"
      },
      "source": [
        "**Reasoning**:\n",
        "The subtask requires demonstrating the difference between array copies and views by creating a copy and a view of the `marks` array, modifying elements in each, and observing the effect on the original array. I will perform all steps in a single code block.\n",
        "\n"
      ]
    },
    {
      "cell_type": "code",
      "metadata": {
        "colab": {
          "base_uri": "https://localhost:8080/"
        },
        "id": "99a00143",
        "outputId": "466838d8-b423-4487-f66c-0ba88c40082e"
      },
      "source": [
        "# 1. Create a new array marks_copy that is a copy of the original marks array\n",
        "marks_copy = marks.copy()\n",
        "print(\"Original marks array:\\n\", marks)\n",
        "print(\"\\nCopy of marks array (marks_copy):\\n\", marks_copy)\n",
        "\n",
        "# 2. Create a new array marks_view_slice that is a view of a slice of the original marks array\n",
        "marks_view_slice = marks[:3, :2]\n",
        "print(\"\\nView of a slice of marks array (marks_view_slice - first 3 rows, first 2 columns):\\n\", marks_view_slice)\n",
        "\n",
        "# 3. Modify an element in the marks_copy array\n",
        "print(\"\\nModifying element [0, 0] in marks_copy...\")\n",
        "marks_copy[0, 0] = 100\n",
        "print(\"Modified marks_copy:\\n\", marks_copy)\n",
        "print(\"Original marks after modifying marks_copy:\\n\", marks) # Show original is not affected\n",
        "\n",
        "# 4. Modify an element in the marks_view_slice array\n",
        "print(\"\\nModifying element [0, 0] in marks_view_slice...\")\n",
        "marks_view_slice[0, 0] = 50\n",
        "print(\"Modified marks_view_slice:\\n\", marks_view_slice)\n",
        "print(\"Original marks after modifying marks_view_slice:\\n\", marks) # Show original IS affected"
      ],
      "execution_count": 14,
      "outputs": [
        {
          "output_type": "stream",
          "name": "stdout",
          "text": [
            "Original marks array:\n",
            " [[85 92 78 92]\n",
            " [70 88 95 80]\n",
            " [95 80 88 91]\n",
            " [65 70 75 72]\n",
            " [98 91 89 94]]\n",
            "\n",
            "Copy of marks array (marks_copy):\n",
            " [[85 92 78 92]\n",
            " [70 88 95 80]\n",
            " [95 80 88 91]\n",
            " [65 70 75 72]\n",
            " [98 91 89 94]]\n",
            "\n",
            "View of a slice of marks array (marks_view_slice - first 3 rows, first 2 columns):\n",
            " [[85 92]\n",
            " [70 88]\n",
            " [95 80]]\n",
            "\n",
            "Modifying element [0, 0] in marks_copy...\n",
            "Modified marks_copy:\n",
            " [[100  92  78  92]\n",
            " [ 70  88  95  80]\n",
            " [ 95  80  88  91]\n",
            " [ 65  70  75  72]\n",
            " [ 98  91  89  94]]\n",
            "Original marks after modifying marks_copy:\n",
            " [[85 92 78 92]\n",
            " [70 88 95 80]\n",
            " [95 80 88 91]\n",
            " [65 70 75 72]\n",
            " [98 91 89 94]]\n",
            "\n",
            "Modifying element [0, 0] in marks_view_slice...\n",
            "Modified marks_view_slice:\n",
            " [[50 92]\n",
            " [70 88]\n",
            " [95 80]]\n",
            "Original marks after modifying marks_view_slice:\n",
            " [[50 92 78 92]\n",
            " [70 88 95 80]\n",
            " [95 80 88 91]\n",
            " [65 70 75 72]\n",
            " [98 91 89 94]]\n"
          ]
        }
      ]
    },
    {
      "cell_type": "markdown",
      "metadata": {
        "id": "3ab97b66"
      },
      "source": [
        "## Summary:\n",
        "\n",
        "### Data Analysis Key Findings\n",
        "\n",
        "*   The `students` array is a 1D array of size 5, `subjects` is a 1D array of size 4, and `marks` is a 2D array with a shape of (5, 4) and a size of 20.\n",
        "*   The `marks` array can be reshaped into a 1D array of shape (20,) or transposed into a 2D array of shape (4, 5). A slice of the `marks` array, like the first two rows, creates a view with a shape of (2, 4).\n",
        "*   New student marks can be added using `np.vstack`, changing the marks array shape from (5, 4) to (6, 4). New subject marks can be added using `np.hstack`, changing the shape from (5, 4) to (5, 5).\n",
        "*   Individual elements or slices of the `marks` array can be modified directly using indexing and slicing. The `np.unique()` function successfully identified the unique mark values in the array.\n",
        "*   The original `marks` array had an integer data type (`int64`). It was successfully converted to a floating-point type (`float64`) using `.astype()`. Division on the integer array resulted in a floating-point array, demonstrating NumPy's automatic data type upcasting during operations.\n",
        "*   Modifying a copy of the `marks` array (created with `.copy()`) does not affect the original array. Modifying a view of the `marks` array (created with slicing) *does* affect the original array, illustrating that views share the same underlying data.\n",
        "\n",
        "### Insights or Next Steps\n",
        "\n",
        "*   Understanding the difference between copies and views is crucial in NumPy to avoid unintended modifications of data.\n",
        "*   NumPy's data type handling and automatic upcasting simplify operations involving different numerical types.\n"
      ]
    }
  ]
}